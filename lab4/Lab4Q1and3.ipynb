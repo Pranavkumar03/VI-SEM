{
 "cells": [
  {
   "cell_type": "code",
   "execution_count": 26,
   "id": "95b71063-6631-4b01-8876-af82a0068258",
   "metadata": {},
   "outputs": [],
   "source": [
    "import torch\n",
    "import matplotlib.pyplot as plt\n",
    "from torch.utils.data import Dataset,DataLoader\n",
    "import torch.nn as nn\n",
    "import numpy as np"
   ]
  },
  {
   "cell_type": "code",
   "execution_count": 27,
   "id": "86bc81c5-6e23-4271-a30e-b5e68a80369c",
   "metadata": {},
   "outputs": [],
   "source": [
    "x=torch.tensor([[0,0],[0,1],[1,0],[1,1]],dtype=torch.float32)\n",
    "y=torch.tensor([0,1,1,0],dtype=torch.float32)"
   ]
  },
  {
   "cell_type": "code",
   "execution_count": 28,
   "id": "f58c6748-80d3-4bb7-a1c4-ddb95b4d375e",
   "metadata": {},
   "outputs": [],
   "source": [
    "loss_list=[]\n",
    "class XORModel(nn.Module):\n",
    "    def __init__(self):\n",
    "        super(XORModel,self).__init__()\n",
    "        self.linear1=nn.Linear(2,2,bias=True)\n",
    "        self.activation1=nn.Sigmoid()\n",
    "        self.linear2=nn.Linear(2,1,bias=True)\n",
    "    def forward(self,x):\n",
    "        x=self.linear1(x)\n",
    "        x=self.activation1(x)\n",
    "        x=self.linear2(x)\n",
    "        return x"
   ]
  },
  {
   "cell_type": "code",
   "execution_count": 29,
   "id": "cf804f2c-e2cb-4c08-91f8-9e032ed44c05",
   "metadata": {},
   "outputs": [
    {
     "name": "stdout",
     "output_type": "stream",
     "text": [
      "XORModel(\n",
      "  (linear1): Linear(in_features=2, out_features=2, bias=True)\n",
      "  (activation1): Sigmoid()\n",
      "  (linear2): Linear(in_features=2, out_features=1, bias=True)\n",
      ")\n"
     ]
    }
   ],
   "source": [
    "class MyDataset(Dataset):\n",
    "    def __init__(self,X,Y):\n",
    "        self.X=X\n",
    "        self.Y=Y\n",
    "    def __len__(self):\n",
    "        return len(self.X)\n",
    "    def __getitem__(self,idx):\n",
    "        return self.X[idx].to(device),self.Y[idx].to(device)\n",
    "full_dataset=MyDataset(x,y)\n",
    "tdl=DataLoader(full_dataset,batch_size=1,shuffle=True)\n",
    "device=torch.device(\"cuda\" if torch.cuda.is_available() else \"cpu\")\n",
    "model=XORModel().to(device)\n",
    "print(model)\n",
    "        "
   ]
  },
  {
   "cell_type": "code",
   "execution_count": 31,
   "id": "be060260-b02c-4faa-98e2-a99b745a60d8",
   "metadata": {},
   "outputs": [],
   "source": [
    "loss_fn=torch.nn.MSELoss()\n",
    "optimizer=torch.optim.SGD(model.parameters(),lr=0.03)"
   ]
  },
  {
   "cell_type": "code",
   "execution_count": 32,
   "id": "6f6f3f38-5d25-4e57-a86e-9ad50bbfa5c8",
   "metadata": {},
   "outputs": [
    {
     "name": "stdout",
     "output_type": "stream",
     "text": [
      "Epoch0/10000,Loss:0.2884430103003979\n",
      "Epoch1000/10000,Loss:0.2195148766040802\n",
      "Epoch2000/10000,Loss:0.0006796272609790321\n",
      "Epoch3000/10000,Loss:2.583442793024915e-09\n",
      "Epoch4000/10000,Loss:8.074430013493838e-12\n",
      "Epoch5000/10000,Loss:7.881695296418911e-12\n",
      "Epoch6000/10000,Loss:7.58593188265877e-12\n",
      "Epoch7000/10000,Loss:7.957190462093422e-12\n",
      "Epoch8000/10000,Loss:7.344347352500336e-12\n",
      "Epoch9000/10000,Loss:7.718270467194088e-12\n"
     ]
    }
   ],
   "source": [
    "def train_one_epoch(ei):\n",
    "    totalloss=0\n",
    "    for i,data in enumerate(tdl):\n",
    "        inputs,labels=data\n",
    "        optimizer.zero_grad()\n",
    "        outputs=model(inputs)\n",
    "        loss=loss_fn(outputs.flatten(),labels)\n",
    "        loss.backward()\n",
    "        optimizer.step()\n",
    "        totalloss+=loss.item()\n",
    "    return totalloss/(len(tdl)*1)\n",
    "    \n",
    "for epoch in range(10000):\n",
    "    model.train(True)\n",
    "    avg_loss=train_one_epoch(epoch)\n",
    "    loss_list.append(avg_loss)\n",
    "    if epoch%1000==0:\n",
    "        print(f'Epoch{epoch}/{10000},Loss:{avg_loss}')\n",
    "\n",
    "    "
   ]
  },
  {
   "cell_type": "code",
   "execution_count": 36,
   "id": "d5ec0294-4fe4-41f1-8949-73ddc0615058",
   "metadata": {},
   "outputs": [
    {
     "name": "stdout",
     "output_type": "stream",
     "text": [
      "parameters=Parameter containing:\n",
      "tensor([[-1.7303, -1.7159],\n",
      "        [-3.2399, -3.1835]], device='cuda:0', requires_grad=True),no of params=4\n",
      "parameters=Parameter containing:\n",
      "tensor([2.2971, 0.3557], device='cuda:0', requires_grad=True),no of params=6\n",
      "parameters=Parameter containing:\n",
      "tensor([[ 2.9443, -3.3581]], device='cuda:0', requires_grad=True),no of params=8\n",
      "parameters=Parameter containing:\n",
      "tensor([-0.7008], device='cuda:0', requires_grad=True),no of params=9\n",
      "input is tensor([0., 1.], device='cuda:0')\n",
      "output tensor([1.0000], device='cuda:0', grad_fn=<ViewBackward0>)\n"
     ]
    },
    {
     "data": {
      "image/png": "[encoded data removed]",
      "text/plain": [
       "<Figure size 640x480 with 1 Axes>"
      ]
     },
     "metadata": {},
     "output_type": "display_data"
    }
   ],
   "source": [
    "cofp=0\n",
    "for name, param in model.named_parameters():\n",
    "    if 'weight' in name or 'bias' in name:\n",
    "        cofp += param.numel()\n",
    "    print(\"parameters={},no of params={}\".format(param,cofp))\n",
    "input=torch.tensor([0,1],dtype=torch.float32).to(device)\n",
    "model.eval()\n",
    "print(\"input is {}\".format(input))\n",
    "print(\"output {}\".format(model(input)))\n",
    "plt.plot(loss_list)\n",
    "plt.show()"
   ]
  },
  {
   "cell_type": "markdown",
   "id": "8c276f61-0348-437e-b62b-2941ca3f4d58",
   "metadata": {},
   "source": [
    "Q3"
   ]
  },
  {
   "cell_type": "code",
   "execution_count": 37,
   "id": "38a4f349-1501-46f7-a63c-afdea238c80c",
   "metadata": {},
   "outputs": [
    {
     "name": "stdout",
     "output_type": "stream",
     "text": [
      "tensor([[0.5000],\n",
      "        [0.7311],\n",
      "        [0.7311],\n",
      "        [0.5000]], device='cuda:0', grad_fn=<MulBackward0>)\n"
     ]
    }
   ],
   "source": [
    "a=torch.matmul(x.to(device),model.linear1.weight.T)+model.linear1.bias\n",
    "output_linear1 = 1 / (1 + torch.exp(-a))\n",
    "\n",
    "b=torch.matmul(output_linear1,model.linear2.weight.T)+model.linear2.bias\n",
    "output_linear2 = 1 / (1 + torch.exp(-b))\n",
    "print(output_linear2)\n",
    "\n",
    "# input_tensor = torch.tensor([0, 1], dtype=torch.float32).to(device)\n",
    "# model.eval()\n",
    "# model_output = model(input_tensor).detach().cpu().numpy()\n",
    "\n",
    "# print(\"Model's output:\")\n",
    "# print(model_output)"
   ]
  },
  {
   "cell_type": "code",
   "execution_count": null,
   "id": "517f0134-d1c6-4abc-8a9c-43e893c1c609",
   "metadata": {},
   "outputs": [],
   "source": []
  }
 ],
 "metadata": {
  "kernelspec": {
   "display_name": "Python 3 (ipykernel)",
   "language": "python",
   "name": "python3"
  },
  "language_info": {
   "codemirror_mode": {
    "name": "ipython",
    "version": 3
   },
   "file_extension": ".py",
   "mimetype": "text/x-python",
   "name": "python",
   "nbconvert_exporter": "python",
   "pygments_lexer": "ipython3",
   "version": "3.11.7"
  }
 },
 "nbformat": 4,
 "nbformat_minor": 5
}
