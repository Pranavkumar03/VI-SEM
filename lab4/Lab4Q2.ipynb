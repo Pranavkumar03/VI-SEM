{
 "cells": [
  {
   "cell_type": "code",
   "execution_count": 1,
   "id": "95b71063-6631-4b01-8876-af82a0068258",
   "metadata": {},
   "outputs": [],
   "source": [
    "import torch\n",
    "import matplotlib.pyplot as plt\n",
    "from torch.utils.data import Dataset,DataLoader\n",
    "import torch.nn as nn\n",
    "import numpy as np"
   ]
  },
  {
   "cell_type": "code",
   "execution_count": 2,
   "id": "86bc81c5-6e23-4271-a30e-b5e68a80369c",
   "metadata": {},
   "outputs": [],
   "source": [
    "x=torch.tensor([[0,0],[0,1],[1,0],[1,1]],dtype=torch.float32)\n",
    "y=torch.tensor([0,1,1,0],dtype=torch.float32)"
   ]
  },
  {
   "cell_type": "code",
   "execution_count": 3,
   "id": "f58c6748-80d3-4bb7-a1c4-ddb95b4d375e",
   "metadata": {},
   "outputs": [],
   "source": [
    "loss_list=[]\n",
    "class XORModel(nn.Module):\n",
    "    def __init__(self):\n",
    "        super(XORModel,self).__init__()\n",
    "        self.linear1=nn.Linear(2,2,bias=True)\n",
    "        self.activation1=nn.ReLU()\n",
    "        self.linear2=nn.Linear(2,1,bias=True)\n",
    "    def forward(self,x):\n",
    "        x=self.linear1(x)\n",
    "        x=self.activation1(x)\n",
    "        x=self.linear2(x)\n",
    "        return x"
   ]
  },
  {
   "cell_type": "code",
   "execution_count": 4,
   "id": "cf804f2c-e2cb-4c08-91f8-9e032ed44c05",
   "metadata": {},
   "outputs": [
    {
     "name": "stdout",
     "output_type": "stream",
     "text": [
      "XORModel(\n",
      "  (linear1): Linear(in_features=2, out_features=2, bias=True)\n",
      "  (activation1): ReLU()\n",
      "  (linear2): Linear(in_features=2, out_features=1, bias=True)\n",
      ")\n"
     ]
    }
   ],
   "source": [
    "class MyDataset(Dataset):\n",
    "    def __init__(self,X,Y):\n",
    "        self.X=X\n",
    "        self.Y=Y\n",
    "    def __len__(self):\n",
    "        return len(self.X)\n",
    "    def __getitem__(self,idx):\n",
    "        return self.X[idx].to(device),self.Y[idx].to(device)\n",
    "full_dataset=MyDataset(x,y)\n",
    "tdl=DataLoader(full_dataset,batch_size=1,shuffle=True)\n",
    "device=torch.device(\"cuda\" if torch.cuda.is_available() else \"cpu\")\n",
    "model=XORModel().to(device)\n",
    "print(model)\n",
    "        "
   ]
  },
  {
   "cell_type": "code",
   "execution_count": 5,
   "id": "be060260-b02c-4faa-98e2-a99b745a60d8",
   "metadata": {},
   "outputs": [],
   "source": [
    "loss_fn=torch.nn.MSELoss()\n",
    "optimizer=torch.optim.SGD(model.parameters(),lr=0.03)"
   ]
  },
  {
   "cell_type": "code",
   "execution_count": 6,
   "id": "6f6f3f38-5d25-4e57-a86e-9ad50bbfa5c8",
   "metadata": {},
   "outputs": [
    {
     "name": "stdout",
     "output_type": "stream",
     "text": [
      "Epoch0/10000,Loss:0.3225237727165222\n",
      "Epoch1000/10000,Loss:7.355227538141662e-14\n",
      "Epoch2000/10000,Loss:7.088774012231625e-14\n",
      "Epoch3000/10000,Loss:6.955547249276606e-14\n",
      "Epoch4000/10000,Loss:7.216449660063518e-14\n",
      "Epoch5000/10000,Loss:6.80566714095221e-14\n",
      "Epoch6000/10000,Loss:6.156186671546493e-14\n",
      "Epoch7000/10000,Loss:7.777112287499222e-14\n",
      "Epoch8000/10000,Loss:6.261657858885883e-14\n",
      "Epoch9000/10000,Loss:7.777112287499222e-14\n"
     ]
    }
   ],
   "source": [
    "def train_one_epoch(ei):\n",
    "    totalloss=0\n",
    "    for i,data in enumerate(tdl):\n",
    "        inputs,labels=data\n",
    "        optimizer.zero_grad()\n",
    "        outputs=model(inputs)\n",
    "        loss=loss_fn(outputs.flatten(),labels)\n",
    "        loss.backward()\n",
    "        optimizer.step()\n",
    "        totalloss+=loss.item()\n",
    "    return totalloss/(len(tdl)*1)\n",
    "    \n",
    "for epoch in range(10000):\n",
    "    model.train(True)\n",
    "    avg_loss=train_one_epoch(epoch)\n",
    "    loss_list.append(avg_loss)\n",
    "    if epoch%1000==0:\n",
    "        print(f'Epoch{epoch}/{10000},Loss:{avg_loss}')\n",
    "\n",
    "    "
   ]
  },
  {
   "cell_type": "code",
   "execution_count": 11,
   "id": "d5ec0294-4fe4-41f1-8949-73ddc0615058",
   "metadata": {},
   "outputs": [
    {
     "name": "stdout",
     "output_type": "stream",
     "text": [
      "parameters=Parameter containing:\n",
      "tensor([[ 0.8765, -0.8782],\n",
      "        [-0.9504,  0.9520]], device='cuda:0', requires_grad=True),no of params=4\n",
      "parameters=Parameter containing:\n",
      "tensor([ 1.7697e-01, -1.8445e-07], device='cuda:0', requires_grad=True),no of params=6\n",
      "parameters=Parameter containing:\n",
      "tensor([[1.1410, 1.2625]], device='cuda:0', requires_grad=True),no of params=8\n",
      "parameters=Parameter containing:\n",
      "tensor([-0.2019], device='cuda:0', requires_grad=True),no of params=9\n",
      "input is tensor([1., 0.], device='cuda:0')\n",
      "output tensor([1.0000], device='cuda:0', grad_fn=<ViewBackward0>)\n"
     ]
    },
    {
     "data": {
      "image/png": "[encoded data removed]",
      "text/plain": [
       "<Figure size 640x480 with 1 Axes>"
      ]
     },
     "metadata": {},
     "output_type": "display_data"
    }
   ],
   "source": [
    "cofp=0\n",
    "for name, param in model.named_parameters():\n",
    "    if 'weight' in name or 'bias' in name:\n",
    "        cofp += param.numel()\n",
    "    print(\"parameters={},no of params={}\".format(param,cofp))\n",
    "input=torch.tensor([1,0],dtype=torch.float32).to(device)\n",
    "model.eval()\n",
    "print(\"input is {}\".format(input))\n",
    "print(\"output {}\".format(model(input)))\n",
    "plt.plot(loss_list)\n",
    "plt.show()"
   ]
  },
  {
   "cell_type": "code",
   "execution_count": 30,
   "id": "29db3435-0198-4cae-8bb0-632cc3a04134",
   "metadata": {},
   "outputs": [
    {
     "name": "stdout",
     "output_type": "stream",
     "text": [
      "tensor([[0.7408],\n",
      "        [0.7479],\n",
      "        [0.7303],\n",
      "        [0.7408]], device='cuda:0', grad_fn=<MulBackward0>)\n",
      "Model's output:\n",
      "[0.99999976]\n"
     ]
    }
   ],
   "source": [
    "\n"
   ]
  },
  {
   "cell_type": "code",
   "execution_count": null,
   "id": "21ff2016-cab0-431d-b3c5-f480f04f7847",
   "metadata": {},
   "outputs": [],
   "source": []
  }
 ],
 "metadata": {
  "kernelspec": {
   "display_name": "Python 3 (ipykernel)",
   "language": "python",
   "name": "python3"
  },
  "language_info": {
   "codemirror_mode": {
    "name": "ipython",
    "version": 3
   },
   "file_extension": ".py",
   "mimetype": "text/x-python",
   "name": "python",
   "nbconvert_exporter": "python",
   "pygments_lexer": "ipython3",
   "version": "3.11.7"
  }
 },
 "nbformat": 4,
 "nbformat_minor": 5
}
