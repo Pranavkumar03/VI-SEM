{
 "cells": [
  {
   "cell_type": "code",
   "execution_count": 1,
   "id": "7ebaa2ff-415a-474b-87cf-3f3bfb6bb661",
   "metadata": {},
   "outputs": [],
   "source": [
    "import torch"
   ]
  },
  {
   "cell_type": "code",
   "execution_count": 2,
   "id": "6adfcbc2-3707-4489-a760-ba2cea06d459",
   "metadata": {},
   "outputs": [],
   "source": [
    "x=torch.tensor(2.0,requires_grad=True)"
   ]
  },
  {
   "cell_type": "code",
   "execution_count": 4,
   "id": "6a0af889-134e-4a34-a72e-d1b04be431e6",
   "metadata": {},
   "outputs": [],
   "source": [
    "f=torch.exp(-x**2-2*x-torch.sin(x))"
   ]
  },
  {
   "cell_type": "code",
   "execution_count": 5,
   "id": "08d89f86-fe61-42ea-a1ee-80d941550dfb",
   "metadata": {},
   "outputs": [],
   "source": [
    "f.backward()"
   ]
  },
  {
   "cell_type": "code",
   "execution_count": 6,
   "id": "c0b4dfcd-9a8b-4922-88b2-1aff321bce65",
   "metadata": {},
   "outputs": [
    {
     "data": {
      "text/plain": [
       "tensor(-0.0008)"
      ]
     },
     "execution_count": 6,
     "metadata": {},
     "output_type": "execute_result"
    }
   ],
   "source": [
    "x.grad"
   ]
  },
  {
   "cell_type": "code",
   "execution_count": 7,
   "id": "558d7374-8574-4cef-a0b8-beb031430941",
   "metadata": {},
   "outputs": [],
   "source": [
    "a=-x*x\n",
    "b=-2*x\n",
    "c=-torch.sin(x)\n",
    "d=a+b+c\n",
    "f1=torch.exp(d)"
   ]
  },
  {
   "cell_type": "code",
   "execution_count": 10,
   "id": "9c318506-04e6-44cb-9f04-261a0823fdd3",
   "metadata": {},
   "outputs": [
    {
     "name": "stdout",
     "output_type": "stream",
     "text": [
      "tensor(-0.0008, grad_fn=<AddBackward0>)\n"
     ]
    }
   ],
   "source": [
    "dd_da=-2*x\n",
    "dd_db=-2\n",
    "dd_dc=-torch.cos(x)\n",
    "df_dd=torch.exp(d)\n",
    "df_dx=df_dd*dd_da+df_dd*dd_db+df_dd*dd_dc\n",
    "print(df_dx)"
   ]
  },
  {
   "cell_type": "code",
   "execution_count": null,
   "id": "140b3ed2-a001-4d5e-9867-e8160351a2f6",
   "metadata": {},
   "outputs": [],
   "source": []
  }
 ],
 "metadata": {
  "kernelspec": {
   "display_name": "Python 3 (ipykernel)",
   "language": "python",
   "name": "python3"
  },
  "language_info": {
   "codemirror_mode": {
    "name": "ipython",
    "version": 3
   },
   "file_extension": ".py",
   "mimetype": "text/x-python",
   "name": "python",
   "nbconvert_exporter": "python",
   "pygments_lexer": "ipython3",
   "version": "3.11.7"
  }
 },
 "nbformat": 4,
 "nbformat_minor": 5
}
