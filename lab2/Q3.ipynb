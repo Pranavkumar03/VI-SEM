{
 "cells": [
  {
   "cell_type": "raw",
   "id": "f0e0e26a-5dae-4f9b-a522-6d87f939591c",
   "metadata": {},
   "source": [
    "import torch"
   ]
  },
  {
   "cell_type": "code",
   "execution_count": 31,
   "id": "86528531-fa4b-4362-85b1-6f8dcab43d38",
   "metadata": {},
   "outputs": [
    {
     "name": "stdout",
     "output_type": "stream",
     "text": [
      "tensor(0.0066)\n"
     ]
    }
   ],
   "source": [
    "import torch.nn as nn\n",
    "x=torch.tensor(1.0,requires_grad=True)\n",
    "b=torch.tensor(2.0,requires_grad=True)\n",
    "w=torch.tensor(3.0,requires_grad=True)\n",
    "u=w*x\n",
    "v=u+b\n",
    "sig= nn.Sigmoid()\n",
    "a=sig(v)\n",
    "a.backward()\n",
    "print(w.grad)"
   ]
  },
  {
   "cell_type": "code",
   "execution_count": 33,
   "id": "92a50239-5d67-4d51-a68c-7b5bc52be6e7",
   "metadata": {},
   "outputs": [],
   "source": [
    "du_dv=sig(v)*(1-sig(v))\n",
    "dv_du=1\n",
    "du_dw=x"
   ]
  },
  {
   "cell_type": "code",
   "execution_count": 34,
   "id": "3ae7ccfc-67d0-4b92-9231-6d1fe4d2777c",
   "metadata": {},
   "outputs": [
    {
     "name": "stdout",
     "output_type": "stream",
     "text": [
      "tensor(0.0066, grad_fn=<MulBackward0>)\n"
     ]
    }
   ],
   "source": [
    "print(du_dv*dv_du*du_dw)"
   ]
  },
  {
   "cell_type": "code",
   "execution_count": 23,
   "id": "360354b8-f312-469f-a049-9608c0d7b826",
   "metadata": {},
   "outputs": [
    {
     "name": "stdout",
     "output_type": "stream",
     "text": [
      "tensor(4.)\n"
     ]
    }
   ],
   "source": []
  },
  {
   "cell_type": "code",
   "execution_count": 24,
   "id": "9da2e291-c983-48da-9efc-1f69b45bc16b",
   "metadata": {},
   "outputs": [],
   "source": []
  },
  {
   "cell_type": "code",
   "execution_count": 25,
   "id": "3d50d12c-a015-4603-8a66-94e594c9ed85",
   "metadata": {},
   "outputs": [
    {
     "name": "stdout",
     "output_type": "stream",
     "text": [
      "tensor(2.)\n"
     ]
    }
   ],
   "source": []
  },
  {
   "cell_type": "code",
   "execution_count": 26,
   "id": "1f562f7d-82d4-4e7b-bdfe-62012137bd87",
   "metadata": {},
   "outputs": [
    {
     "name": "stdout",
     "output_type": "stream",
     "text": [
      "tensor(-2., grad_fn=<MulBackward0>)\n"
     ]
    }
   ],
   "source": []
  },
  {
   "cell_type": "code",
   "execution_count": null,
   "id": "958be775-ab4d-4a9e-9c14-fc253eae04b0",
   "metadata": {},
   "outputs": [],
   "source": []
  }
 ],
 "metadata": {
  "kernelspec": {
   "display_name": "Python 3 (ipykernel)",
   "language": "python",
   "name": "python3"
  },
  "language_info": {
   "codemirror_mode": {
    "name": "ipython",
    "version": 3
   },
   "file_extension": ".py",
   "mimetype": "text/x-python",
   "name": "python",
   "nbconvert_exporter": "python",
   "pygments_lexer": "ipython3",
   "version": "3.11.7"
  }
 },
 "nbformat": 4,
 "nbformat_minor": 5
}
