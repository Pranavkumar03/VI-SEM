{
 "cells": [
  {
   "cell_type": "code",
   "execution_count": 2,
   "id": "d2ee83d3-62b5-40af-8215-3c791cef7c00",
   "metadata": {},
   "outputs": [],
   "source": [
    "import torch"
   ]
  },
  {
   "cell_type": "markdown",
   "id": "800141aa-ae23-46b4-b8ef-a0a1bccb53e7",
   "metadata": {},
   "source": [
    "Q1"
   ]
  },
  {
   "cell_type": "code",
   "execution_count": 4,
   "id": "a46aa8ca-a8dc-40a1-9f44-300155c94c7d",
   "metadata": {},
   "outputs": [],
   "source": [
    "a=torch.tensor(2.0,requires_grad=True)\n",
    "b=torch.tensor(2.0,requires_grad=True)\n",
    "\n",
    "x=2*a+3*b\n",
    "y=5*a*a+3*b*b*b\n",
    "z=2*x+3*y\n",
    "z.backward()"
   ]
  },
  {
   "cell_type": "code",
   "execution_count": 5,
   "id": "be3a135b-f662-4db0-9749-eeafb206c8d7",
   "metadata": {},
   "outputs": [
    {
     "name": "stdout",
     "output_type": "stream",
     "text": [
      "tensor(64.) tensor(114.)\n"
     ]
    }
   ],
   "source": [
    "print(a.grad,b.grad)"
   ]
  },
  {
   "cell_type": "code",
   "execution_count": 8,
   "id": "4e7c2721-d84f-4c00-99a4-015bdf83236d",
   "metadata": {},
   "outputs": [],
   "source": [
    "dx_da=2\n",
    "dy_da=10*a\n",
    "dz_dx=2\n",
    "dz_dy=3\n",
    "dz_da=dz_dx*dx_da+dz_dy*dy_da"
   ]
  },
  {
   "cell_type": "code",
   "execution_count": 10,
   "id": "b7a07b2e-9e61-41f4-af86-5a02803f24b4",
   "metadata": {},
   "outputs": [
    {
     "data": {
      "text/plain": [
       "tensor(64., grad_fn=<AddBackward0>)"
      ]
     },
     "execution_count": 10,
     "metadata": {},
     "output_type": "execute_result"
    }
   ],
   "source": [
    "dz_da"
   ]
  },
  {
   "cell_type": "markdown",
   "id": "5d8db010-9080-4153-b3e6-53a9ee619195",
   "metadata": {},
   "source": [
    "Q2"
   ]
  },
  {
   "cell_type": "code",
   "execution_count": 20,
   "id": "aa1a07ce-dc91-496b-8fb3-8164edb7c104",
   "metadata": {},
   "outputs": [
    {
     "name": "stdout",
     "output_type": "stream",
     "text": [
      "tensor(5.)\n"
     ]
    }
   ],
   "source": [
    "import torch.nn as nn\n",
    "x1=torch.tensor(5.0,requires_grad=True)\n",
    "b1=torch.tensor(2.0,requires_grad=True)\n",
    "w1=torch.tensor(2.0,requires_grad=True)\n",
    "u=w1*x1\n",
    "v=u+b1\n",
    "relu = nn.ReLU()\n",
    "a1=relu(v)\n",
    "a1.backward()\n",
    "print(w1.grad)"
   ]
  },
  {
   "cell_type": "code",
   "execution_count": 22,
   "id": "c99b276d-d6be-4d58-94f6-637694a0e2fc",
   "metadata": {},
   "outputs": [
    {
     "name": "stdout",
     "output_type": "stream",
     "text": [
      "tensor(5., grad_fn=<MulBackward0>)\n"
     ]
    }
   ],
   "source": [
    "du_da=x1*1*1\n",
    "print(du_da)"
   ]
  },
  {
   "cell_type": "markdown",
   "id": "d77dbe27-24d5-48bb-a3f7-655afde2e080",
   "metadata": {},
   "source": []
  },
  {
   "cell_type": "code",
   "execution_count": 23,
   "id": "51ef216b-053b-4914-993f-30313285acb9",
   "metadata": {},
   "outputs": [],
   "source": []
  },
  {
   "cell_type": "code",
   "execution_count": 24,
   "id": "a35740cf-5919-4722-b4d1-f810751c0e2c",
   "metadata": {},
   "outputs": [
    {
     "data": {
      "text/plain": [
       "tensor(5.)"
      ]
     },
     "execution_count": 24,
     "metadata": {},
     "output_type": "execute_result"
    }
   ],
   "source": []
  },
  {
   "cell_type": "code",
   "execution_count": null,
   "id": "38ee003d-67ae-4266-8ce0-0180cf3b6b9d",
   "metadata": {},
   "outputs": [],
   "source": []
  }
 ],
 "metadata": {
  "kernelspec": {
   "display_name": "Python 3 (ipykernel)",
   "language": "python",
   "name": "python3"
  },
  "language_info": {
   "codemirror_mode": {
    "name": "ipython",
    "version": 3
   },
   "file_extension": ".py",
   "mimetype": "text/x-python",
   "name": "python",
   "nbconvert_exporter": "python",
   "pygments_lexer": "ipython3",
   "version": "3.11.7"
  }
 },
 "nbformat": 4,
 "nbformat_minor": 5
}
