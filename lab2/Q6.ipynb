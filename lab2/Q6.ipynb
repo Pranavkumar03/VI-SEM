{
 "cells": [
  {
   "cell_type": "code",
   "execution_count": 1,
   "id": "b292debb-26ed-40a4-a72e-68414ad650b3",
   "metadata": {},
   "outputs": [],
   "source": [
    "import torch"
   ]
  },
  {
   "cell_type": "code",
   "execution_count": 2,
   "id": "9509c9e1-697a-4ef4-857e-e906eabe990f",
   "metadata": {},
   "outputs": [],
   "source": [
    "x=torch.tensor(5.0,requires_grad=True)\n",
    "y=torch.tensor(2.0,requires_grad=True)\n",
    "z=torch.tensor(2.0,requires_grad=True)"
   ]
  },
  {
   "cell_type": "code",
   "execution_count": 4,
   "id": "465b6442-f22e-4e44-98aa-cb91eb0d9c8c",
   "metadata": {},
   "outputs": [],
   "source": [
    "f=torch.tanh(torch.log((1+(z*2*x)/(torch.sin(y)))))"
   ]
  },
  {
   "cell_type": "code",
   "execution_count": 5,
   "id": "bf10548c-6e80-423a-b566-6b6cd5347314",
   "metadata": {},
   "outputs": [],
   "source": [
    "f.backward()"
   ]
  },
  {
   "cell_type": "code",
   "execution_count": 6,
   "id": "3d12086e-ab35-4a40-86e2-f3b8577854e2",
   "metadata": {},
   "outputs": [
    {
     "data": {
      "text/plain": [
       "tensor(0.0033)"
      ]
     },
     "execution_count": 6,
     "metadata": {},
     "output_type": "execute_result"
    }
   ],
   "source": [
    "y.grad"
   ]
  },
  {
   "cell_type": "code",
   "execution_count": 9,
   "id": "ae176560-6db9-40b8-ad39-3feca6c6a107",
   "metadata": {},
   "outputs": [],
   "source": [
    "a=2*x\n",
    "b=torch.sin(y)\n",
    "c=a/b\n",
    "d=c*z\n",
    "e=torch.log(1+d)\n",
    "f=torch.tanh(e)\n",
    "\n",
    "df_de=1-(torch.tanh(e))**2\n",
    "de_dd=1/(1+d)\n",
    "dd_dc=z\n",
    "dc_db=-a/b**2\n",
    "db_dy=torch.cos(y)\n",
    "df_dy=df_de*de_dd*dd_dc*dc_db*db_dy"
   ]
  },
  {
   "cell_type": "code",
   "execution_count": 10,
   "id": "e33108a3-7e86-478c-9199-72443bd05261",
   "metadata": {},
   "outputs": [
    {
     "data": {
      "text/plain": [
       "tensor(0.0033, grad_fn=<MulBackward0>)"
      ]
     },
     "execution_count": 10,
     "metadata": {},
     "output_type": "execute_result"
    }
   ],
   "source": [
    "df_dy"
   ]
  },
  {
   "cell_type": "code",
   "execution_count": null,
   "id": "19eada4d-adb5-4b71-9c31-ce9ea46add03",
   "metadata": {},
   "outputs": [],
   "source": []
  }
 ],
 "metadata": {
  "kernelspec": {
   "display_name": "Python 3 (ipykernel)",
   "language": "python",
   "name": "python3"
  },
  "language_info": {
   "codemirror_mode": {
    "name": "ipython",
    "version": 3
   },
   "file_extension": ".py",
   "mimetype": "text/x-python",
   "name": "python",
   "nbconvert_exporter": "python",
   "pygments_lexer": "ipython3",
   "version": "3.11.7"
  }
 },
 "nbformat": 4,
 "nbformat_minor": 5
}
