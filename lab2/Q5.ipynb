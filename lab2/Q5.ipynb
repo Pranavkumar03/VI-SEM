{
 "cells": [
  {
   "cell_type": "code",
   "execution_count": 1,
   "id": "347ae383-e5d7-41a7-bf85-00f67795a6ae",
   "metadata": {},
   "outputs": [],
   "source": [
    "import torch"
   ]
  },
  {
   "cell_type": "code",
   "execution_count": 3,
   "id": "5853d769-3bdb-4eb7-9d71-b0fe56afd4b6",
   "metadata": {},
   "outputs": [],
   "source": [
    "x=torch.tensor(2.0,requires_grad=True)\n",
    "y=8*x**4+3*x**3+7*x**2+6*x+3"
   ]
  },
  {
   "cell_type": "code",
   "execution_count": 4,
   "id": "974f2cc6-a1f1-4949-aafb-3882ba60b41b",
   "metadata": {},
   "outputs": [],
   "source": [
    "y.backward()"
   ]
  },
  {
   "cell_type": "code",
   "execution_count": 5,
   "id": "e8e3d53d-e22e-474c-af50-ca46245f3143",
   "metadata": {},
   "outputs": [
    {
     "data": {
      "text/plain": [
       "tensor(326.)"
      ]
     },
     "execution_count": 5,
     "metadata": {},
     "output_type": "execute_result"
    }
   ],
   "source": [
    "x.grad"
   ]
  },
  {
   "cell_type": "code",
   "execution_count": 6,
   "id": "ac48311e-54f9-400e-adc2-b7e561437d2c",
   "metadata": {},
   "outputs": [
    {
     "name": "stdout",
     "output_type": "stream",
     "text": [
      "tensor(326., grad_fn=<AddBackward0>)\n"
     ]
    }
   ],
   "source": [
    "z=32*x**3+9*x**2+14*x+6\n",
    "print(z)"
   ]
  },
  {
   "cell_type": "markdown",
   "id": "56332515-7815-4e90-b1a6-3d6f298830e2",
   "metadata": {},
   "source": [
    "ANALYTICAL again\n",
    "\n"
   ]
  },
  {
   "cell_type": "code",
   "execution_count": null,
   "id": "0541dc83-d72d-4704-a0cb-5dd8b422e04a",
   "metadata": {},
   "outputs": [],
   "source": []
  }
 ],
 "metadata": {
  "kernelspec": {
   "display_name": "Python 3 (ipykernel)",
   "language": "python",
   "name": "python3"
  },
  "language_info": {
   "codemirror_mode": {
    "name": "ipython",
    "version": 3
   },
   "file_extension": ".py",
   "mimetype": "text/x-python",
   "name": "python",
   "nbconvert_exporter": "python",
   "pygments_lexer": "ipython3",
   "version": "3.11.7"
  }
 },
 "nbformat": 4,
 "nbformat_minor": 5
}
