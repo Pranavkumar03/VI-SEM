{
 "cells": [
  {
   "cell_type": "code",
   "execution_count": 2,
   "id": "a041e341-65a9-4c3f-83f4-b23600e3ccfb",
   "metadata": {},
   "outputs": [
    {
     "name": "stdout",
     "output_type": "stream",
     "text": [
      "[tensor([ 7.,  5., 16., 12.]), tensor([120.,  40., 210., 180.])]\n",
      "[tensor([20.]), tensor([240.])]\n",
      "After 0 epochs, The parameters are w=Parameter containing:\n",
      "tensor([15.1285], requires_grad=True),b=Parameter containing:\n",
      "tensor([1.4746], requires_grad=True), and loss =3868.11767578125\n",
      "After 10 epochs, The parameters are w=Parameter containing:\n",
      "tensor([13.5749], requires_grad=True),b=Parameter containing:\n",
      "tensor([1.8608], requires_grad=True), and loss =2180.764404296875\n",
      "After 20 epochs, The parameters are w=Parameter containing:\n",
      "tensor([13.5338], requires_grad=True),b=Parameter containing:\n",
      "tensor([2.3466], requires_grad=True), and loss =2143.605224609375\n",
      "After 30 epochs, The parameters are w=Parameter containing:\n",
      "tensor([12.9991], requires_grad=True),b=Parameter containing:\n",
      "tensor([2.7992], requires_grad=True), and loss =4.18950891494751\n",
      "After 40 epochs, The parameters are w=Parameter containing:\n",
      "tensor([13.6317], requires_grad=True),b=Parameter containing:\n",
      "tensor([3.0839], requires_grad=True), and loss =1885.681396484375\n",
      "After 50 epochs, The parameters are w=Parameter containing:\n",
      "tensor([12.0838], requires_grad=True),b=Parameter containing:\n",
      "tensor([3.1404], requires_grad=True), and loss =1558.369384765625\n",
      "After 60 epochs, The parameters are w=Parameter containing:\n",
      "tensor([14.4154], requires_grad=True),b=Parameter containing:\n",
      "tensor([3.5664], requires_grad=True), and loss =1407.97802734375\n",
      "After 70 epochs, The parameters are w=Parameter containing:\n",
      "tensor([14.2224], requires_grad=True),b=Parameter containing:\n",
      "tensor([4.1727], requires_grad=True), and loss =1080.5361328125\n",
      "After 80 epochs, The parameters are w=Parameter containing:\n",
      "tensor([11.9931], requires_grad=True),b=Parameter containing:\n",
      "tensor([4.1221], requires_grad=True), and loss =1629.013671875\n",
      "After 90 epochs, The parameters are w=Parameter containing:\n",
      "tensor([11.9623], requires_grad=True),b=Parameter containing:\n",
      "tensor([4.0184], requires_grad=True), and loss =1594.3511962890625\n",
      "tensor(39.5166, grad_fn=<MulBackward0>)\n"
     ]
    },
    {
     "data": {
      "text/plain": [
       "[<matplotlib.lines.Line2D at 0x7fbc18c0add0>]"
      ]
     },
     "execution_count": 2,
     "metadata": {},
     "output_type": "execute_result"
    },
    {
     "data": {
      "image/png": "[encoded data removed]",
      "text/plain": [
       "<Figure size 640x480 with 1 Axes>"
      ]
     },
     "metadata": {},
     "output_type": "display_data"
    }
   ],
   "source": [
    "import torch\n",
    "from torch.utils.data import Dataset,DataLoader\n",
    "\n",
    "class MyDataset(Dataset):\n",
    "    def __init__(self,X,Y):\n",
    "        self.X = X\n",
    "        self.Y = Y\n",
    "    def __len__(self):\n",
    "        return len(self.X)\n",
    "    def __getitem__(self,idx):\n",
    "        return self.X[idx],self.Y[idx]\n",
    "\n",
    "x = torch.tensor([5.0,7.0,12.0,16.0,20.0])\n",
    "y = torch.tensor([40.0,120.0,180.0,210.0,240.0])\n",
    "dataset = MyDataset(x,y)\n",
    "data_loader = DataLoader(dataset,batch_size=4,shuffle=True)\n",
    "\n",
    "for data in iter(data_loader):\n",
    "    print(data)\n",
    "    \n",
    "learning_rate = torch.tensor(0.001)\n",
    "\n",
    "class RegressionModel(torch.nn.Module):\n",
    "    def __init__(self):\n",
    "        super().__init__()\n",
    "        self.w = torch.nn.Parameter(torch.rand([1],requires_grad = True))\n",
    "        self.b = torch.nn.Parameter(torch.rand([1],requires_grad = True))\n",
    "    def forward(self,x):\n",
    "        return self.w*x + self.b\n",
    "\n",
    "loss_fn = torch.nn.MSELoss()\n",
    "model = RegressionModel()\n",
    "optimizer = torch.optim.SGD(model.parameters(),lr = 0.003)\n",
    "\n",
    "for epochs in range(100):\n",
    "    loss = 0.0\n",
    "    for i,data in enumerate(data_loader):\n",
    "        inputs,labels = data\n",
    "        optimizer.zero_grad()\n",
    "        outputs = model(inputs)\n",
    "        loss = loss_fn(outputs,labels)\n",
    "        loss.backward()\n",
    "        optimizer.step()\n",
    "    loss += loss.item()\n",
    "\n",
    "    if epochs%10==0:\n",
    "        print(\"After {} epochs, The parameters are w={},b={}, and loss ={}\".format(epochs, model.w,model.b,loss.item()))\n",
    "\n",
    "    finalloss = loss/len(data_loader)*4\n",
    "\n",
    "print(finalloss)\n",
    "\n",
    "plt.plot(loss_list)"
   ]
  },
  {
   "cell_type": "code",
   "execution_count": null,
   "id": "78e600e8-1665-49fe-b000-9ddd7376c10f",
   "metadata": {},
   "outputs": [],
   "source": []
  }
 ],
 "metadata": {
  "kernelspec": {
   "display_name": "Python 3 (ipykernel)",
   "language": "python",
   "name": "python3"
  },
  "language_info": {
   "codemirror_mode": {
    "name": "ipython",
    "version": 3
   },
   "file_extension": ".py",
   "mimetype": "text/x-python",
   "name": "python",
   "nbconvert_exporter": "python",
   "pygments_lexer": "ipython3",
   "version": "3.11.7"
  }
 },
 "nbformat": 4,
 "nbformat_minor": 5
}
